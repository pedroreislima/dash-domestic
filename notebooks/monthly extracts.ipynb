{
 "cells": [
  {
   "cell_type": "code",
   "execution_count": 1,
   "id": "70b7e628",
   "metadata": {},
   "outputs": [],
   "source": [
    "import pandas as pd"
   ]
  },
  {
   "cell_type": "code",
   "execution_count": 2,
   "id": "467f275f",
   "metadata": {},
   "outputs": [],
   "source": [
    "data = pd.read_csv('/home/prlima/Documents/code/dash-domestic/data/grossdata.csv')"
   ]
  },
  {
   "cell_type": "code",
   "execution_count": 3,
   "id": "3afe8e40",
   "metadata": {},
   "outputs": [],
   "source": [
    "data['date']= pd.to_datetime(data['date'])"
   ]
  },
  {
   "cell_type": "code",
   "execution_count": 4,
   "id": "c3c4d778",
   "metadata": {},
   "outputs": [],
   "source": [
    "data['year-month'] = data['date'].dt.to_period('M')"
   ]
  },
  {
   "cell_type": "code",
   "execution_count": 5,
   "id": "061b1ec2",
   "metadata": {},
   "outputs": [
    {
     "data": {
      "text/plain": [
       "year-month\n",
       "2024-01     659.94\n",
       "2024-02    1365.93\n",
       "2024-03     637.93\n",
       "2024-04     493.97\n",
       "2024-05     531.95\n",
       "2024-06     638.96\n",
       "2024-07     763.94\n",
       "2024-08     932.93\n",
       "2024-09    1028.93\n",
       "2024-10    1047.92\n",
       "2024-11    1099.92\n",
       "2024-12    1077.91\n",
       "2025-01    1102.91\n",
       "2025-02    2332.90\n",
       "2025-03    1123.94\n",
       "2025-04    2035.82\n",
       "2025-05    1860.82\n",
       "2025-06    2392.79\n",
       "2025-07    1243.95\n",
       "2025-08    1287.96\n",
       "2025-09    1273.94\n",
       "2025-10    1097.97\n",
       "2025-11    1157.96\n",
       "2025-12     807.96\n",
       "Freq: M, Name: value, dtype: float64"
      ]
     },
     "execution_count": 5,
     "metadata": {},
     "output_type": "execute_result"
    }
   ],
   "source": [
    "data.groupby('year-month')['value'].sum()"
   ]
  },
  {
   "cell_type": "code",
   "execution_count": 10,
   "id": "c6e93216",
   "metadata": {},
   "outputs": [],
   "source": [
    "periods = list(data['year-month'].unique())"
   ]
  },
  {
   "cell_type": "code",
   "execution_count": 20,
   "id": "57551304",
   "metadata": {},
   "outputs": [],
   "source": [
    "data = data.sort_values(by = 'date')"
   ]
  },
  {
   "cell_type": "code",
   "execution_count": 21,
   "id": "b01a38b8",
   "metadata": {},
   "outputs": [
    {
     "name": "stdout",
     "output_type": "stream",
     "text": [
      "extract-2024-01\n",
      "extract-2024-02\n",
      "extract-2024-03\n",
      "extract-2024-04\n",
      "extract-2024-05\n",
      "extract-2024-06\n",
      "extract-2024-07\n",
      "extract-2024-08\n",
      "extract-2024-09\n",
      "extract-2024-10\n",
      "extract-2024-11\n",
      "extract-2024-12\n",
      "extract-2025-01\n",
      "extract-2025-02\n",
      "extract-2025-03\n",
      "extract-2025-04\n",
      "extract-2025-05\n",
      "extract-2025-06\n",
      "extract-2025-07\n",
      "extract-2025-08\n",
      "extract-2025-09\n",
      "extract-2025-10\n",
      "extract-2025-11\n",
      "extract-2025-12\n"
     ]
    }
   ],
   "source": [
    "for i in periods:\n",
    "    filename = f'extract-{i}'\n",
    "    print(filename)\n",
    "    entry = data[data['year-month'] == i]\n",
    "    entry.to_csv(f'/home/prlima/Documents/code/dash-domestic/data/extracts/{filename}.csv')"
   ]
  }
 ],
 "metadata": {
  "kernelspec": {
   "display_name": ".venv",
   "language": "python",
   "name": "python3"
  },
  "language_info": {
   "codemirror_mode": {
    "name": "ipython",
    "version": 3
   },
   "file_extension": ".py",
   "mimetype": "text/x-python",
   "name": "python",
   "nbconvert_exporter": "python",
   "pygments_lexer": "ipython3",
   "version": "3.12.3"
  }
 },
 "nbformat": 4,
 "nbformat_minor": 5
}
