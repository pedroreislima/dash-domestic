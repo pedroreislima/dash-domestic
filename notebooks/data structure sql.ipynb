{
 "cells": [
  {
   "cell_type": "code",
   "execution_count": 1,
   "id": "98281d7e",
   "metadata": {},
   "outputs": [],
   "source": [
    "import sqlite3\n",
    "import pandas as pd"
   ]
  },
  {
   "cell_type": "code",
   "execution_count": 4,
   "id": "f4860391",
   "metadata": {},
   "outputs": [],
   "source": [
    "conn = sqlite3.connect('/home/prlima/Documents/code/dash-domestic/data/sql/dash-domestic.db')"
   ]
  },
  {
   "cell_type": "markdown",
   "id": "af006692",
   "metadata": {},
   "source": [
    "# Creating the Tables"
   ]
  },
  {
   "cell_type": "code",
   "execution_count": 6,
   "id": "57aa3f4b",
   "metadata": {},
   "outputs": [],
   "source": [
    "cursor = conn.cursor()"
   ]
  },
  {
   "cell_type": "code",
   "execution_count": 7,
   "id": "452af288",
   "metadata": {},
   "outputs": [
    {
     "data": {
      "text/plain": [
       "<sqlite3.Cursor at 0x7331af19f440>"
      ]
     },
     "execution_count": 7,
     "metadata": {},
     "output_type": "execute_result"
    }
   ],
   "source": [
    "cursor.execute(\n",
    "    \"\"\"CREATE TABLE IF NOT EXISTS expenses (\n",
    "        id INTEGER PRIMARY KEY,\n",
    "        date TEXT NOT NULL,\n",
    "        value NUMERIC NOT NULL,\n",
    "        id_label INTEGER NOT NULL,\n",
    "        FOREIGN KEY (id_label) REFERENCES expense_label(id_label)\n",
    "    )\"\"\")"
   ]
  },
  {
   "cell_type": "code",
   "execution_count": 16,
   "id": "175bef14",
   "metadata": {},
   "outputs": [
    {
     "data": {
      "text/plain": [
       "<sqlite3.Cursor at 0x7331af19f440>"
      ]
     },
     "execution_count": 16,
     "metadata": {},
     "output_type": "execute_result"
    }
   ],
   "source": [
    "cursor.execute(\n",
    "    \"\"\"ALTER TABLE expenses ADD COLUMN source TEXT;\n",
    "    \"\"\"\n",
    ")"
   ]
  },
  {
   "cell_type": "code",
   "execution_count": 10,
   "id": "6e667efb",
   "metadata": {},
   "outputs": [
    {
     "data": {
      "text/plain": [
       "<sqlite3.Cursor at 0x7331af19f440>"
      ]
     },
     "execution_count": 10,
     "metadata": {},
     "output_type": "execute_result"
    }
   ],
   "source": [
    "cursor.execute(\n",
    "    \"\"\"CREATE TABLE IF NOT EXISTS expense_label (\n",
    "        id_label INTEGER PRIMARY KEY,\n",
    "        label TEXT NOT NULL,\n",
    "        id_category INTEGER KEY,\n",
    "        FOREIGN KEY (id_category) REFERENCES expense_category(id_category)\n",
    "    )\"\"\")"
   ]
  },
  {
   "cell_type": "code",
   "execution_count": 11,
   "id": "833ad7c3",
   "metadata": {},
   "outputs": [
    {
     "data": {
      "text/plain": [
       "<sqlite3.Cursor at 0x7331af19f440>"
      ]
     },
     "execution_count": 11,
     "metadata": {},
     "output_type": "execute_result"
    }
   ],
   "source": [
    "cursor.execute(\n",
    "    \"\"\"CREATE TABLE IF NOT EXISTS expense_category (\n",
    "        id_category INTEGER PRIMARY KEY,\n",
    "        category TEXT NOT NULL\n",
    "    )\"\"\")"
   ]
  },
  {
   "cell_type": "code",
   "execution_count": 12,
   "id": "def0ef61",
   "metadata": {},
   "outputs": [
    {
     "data": {
      "text/plain": [
       "<sqlite3.Cursor at 0x7331af19f440>"
      ]
     },
     "execution_count": 12,
     "metadata": {},
     "output_type": "execute_result"
    }
   ],
   "source": [
    "cursor.execute(\n",
    "    \"\"\"CREATE TABLE IF NOT EXISTS income (\n",
    "        id INTEGER PRIMARY KEY,\n",
    "        date TEXT NOT NULL,\n",
    "        value NUMERIC NOT NULL\n",
    "    )\"\"\"\n",
    ")"
   ]
  },
  {
   "cell_type": "code",
   "execution_count": 17,
   "id": "13472363",
   "metadata": {},
   "outputs": [],
   "source": [
    "conn.commit()"
   ]
  },
  {
   "cell_type": "code",
   "execution_count": 18,
   "id": "d94419e9",
   "metadata": {},
   "outputs": [],
   "source": [
    "conn.close()"
   ]
  },
  {
   "cell_type": "code",
   "execution_count": 33,
   "id": "20250cd8",
   "metadata": {},
   "outputs": [],
   "source": [
    "# Fixing a mistake"
   ]
  },
  {
   "cell_type": "markdown",
   "id": "7ecf15f1",
   "metadata": {},
   "source": []
  },
  {
   "cell_type": "markdown",
   "id": "a0e94228",
   "metadata": {},
   "source": [
    "# Organizing files"
   ]
  },
  {
   "cell_type": "markdown",
   "id": "115b5836",
   "metadata": {},
   "source": [
    "This part is somewhat complex, so I will no go overboard. <br/>\n",
    "I will create the tables assuming they will never change, that is, I will use the final table to create the dimension tables."
   ]
  },
  {
   "cell_type": "code",
   "execution_count": null,
   "id": "6c23c7fc",
   "metadata": {},
   "outputs": [],
   "source": [
    "gross = pd.read_csv('/home/prlima/Documents/code/dash-domestic/data/grossdata.csv')"
   ]
  },
  {
   "cell_type": "code",
   "execution_count": 23,
   "id": "11147bb4",
   "metadata": {},
   "outputs": [],
   "source": [
    "labels = gross.id.unique()"
   ]
  },
  {
   "cell_type": "code",
   "execution_count": 28,
   "id": "a7491b0f",
   "metadata": {},
   "outputs": [],
   "source": [
    "expense_label = pd.DataFrame(labels, columns = ['label'])"
   ]
  },
  {
   "cell_type": "code",
   "execution_count": 31,
   "id": "898f4de4",
   "metadata": {},
   "outputs": [],
   "source": [
    "expense_label.index= expense_label.index + 1"
   ]
  },
  {
   "cell_type": "code",
   "execution_count": 32,
   "id": "9bba2d17",
   "metadata": {},
   "outputs": [
    {
     "data": {
      "text/html": [
       "<div>\n",
       "<style scoped>\n",
       "    .dataframe tbody tr th:only-of-type {\n",
       "        vertical-align: middle;\n",
       "    }\n",
       "\n",
       "    .dataframe tbody tr th {\n",
       "        vertical-align: top;\n",
       "    }\n",
       "\n",
       "    .dataframe thead th {\n",
       "        text-align: right;\n",
       "    }\n",
       "</style>\n",
       "<table border=\"1\" class=\"dataframe\">\n",
       "  <thead>\n",
       "    <tr style=\"text-align: right;\">\n",
       "      <th></th>\n",
       "      <th>label</th>\n",
       "    </tr>\n",
       "  </thead>\n",
       "  <tbody>\n",
       "    <tr>\n",
       "      <th>1</th>\n",
       "      <td>Lamen</td>\n",
       "    </tr>\n",
       "    <tr>\n",
       "      <th>2</th>\n",
       "      <td>Pizza</td>\n",
       "    </tr>\n",
       "    <tr>\n",
       "      <th>3</th>\n",
       "      <td>Feijoada</td>\n",
       "    </tr>\n",
       "    <tr>\n",
       "      <th>4</th>\n",
       "      <td>Carangueijo</td>\n",
       "    </tr>\n",
       "    <tr>\n",
       "      <th>5</th>\n",
       "      <td>Ice cream</td>\n",
       "    </tr>\n",
       "    <tr>\n",
       "      <th>6</th>\n",
       "      <td>health insurance</td>\n",
       "    </tr>\n",
       "    <tr>\n",
       "      <th>7</th>\n",
       "      <td>braces</td>\n",
       "    </tr>\n",
       "    <tr>\n",
       "      <th>8</th>\n",
       "      <td>gym</td>\n",
       "    </tr>\n",
       "    <tr>\n",
       "      <th>9</th>\n",
       "      <td>netflix</td>\n",
       "    </tr>\n",
       "    <tr>\n",
       "      <th>10</th>\n",
       "      <td>crunchyroll</td>\n",
       "    </tr>\n",
       "    <tr>\n",
       "      <th>11</th>\n",
       "      <td>italian course</td>\n",
       "    </tr>\n",
       "    <tr>\n",
       "      <th>12</th>\n",
       "      <td>Bike</td>\n",
       "    </tr>\n",
       "    <tr>\n",
       "      <th>13</th>\n",
       "      <td>Drawing Tablet</td>\n",
       "    </tr>\n",
       "  </tbody>\n",
       "</table>\n",
       "</div>"
      ],
      "text/plain": [
       "               label\n",
       "1              Lamen\n",
       "2              Pizza\n",
       "3           Feijoada\n",
       "4        Carangueijo\n",
       "5          Ice cream\n",
       "6   health insurance\n",
       "7             braces\n",
       "8                gym\n",
       "9            netflix\n",
       "10       crunchyroll\n",
       "11    italian course\n",
       "12              Bike\n",
       "13    Drawing Tablet"
      ]
     },
     "execution_count": 32,
     "metadata": {},
     "output_type": "execute_result"
    }
   ],
   "source": [
    "expense_label"
   ]
  }
 ],
 "metadata": {
  "kernelspec": {
   "display_name": ".venv",
   "language": "python",
   "name": "python3"
  },
  "language_info": {
   "codemirror_mode": {
    "name": "ipython",
    "version": 3
   },
   "file_extension": ".py",
   "mimetype": "text/x-python",
   "name": "python",
   "nbconvert_exporter": "python",
   "pygments_lexer": "ipython3",
   "version": "3.12.3"
  }
 },
 "nbformat": 4,
 "nbformat_minor": 5
}
