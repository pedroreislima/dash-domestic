{
 "cells": [
  {
   "cell_type": "code",
   "execution_count": 1,
   "id": "df48c73c",
   "metadata": {},
   "outputs": [],
   "source": [
    "import sys\n",
    "import os\n",
    "\n",
    "# pretend we are inside src\n",
    "sys.path.append(os.path.abspath('../src'))\n",
    "\n",
    "from subscription import Subscription\n",
    "from expense import Expense\n",
    "\n",
    "from decimal import Decimal\n",
    "\n",
    "from utils import get_weekdays"
   ]
  },
  {
   "cell_type": "code",
   "execution_count": 12,
   "id": "c5e2cf65",
   "metadata": {},
   "outputs": [
    {
     "data": {
      "text/plain": [
       "[datetime.date(2023, 2, 7),\n",
       " datetime.date(2023, 2, 14),\n",
       " datetime.date(2023, 2, 21),\n",
       " datetime.date(2023, 2, 28)]"
      ]
     },
     "execution_count": 12,
     "metadata": {},
     "output_type": "execute_result"
    }
   ],
   "source": [
    "get_weekdays(2023,2,1)"
   ]
  },
  {
   "cell_type": "code",
   "execution_count": 13,
   "id": "232d1794",
   "metadata": {},
   "outputs": [],
   "source": [
    "teste = Expense('teste',[Decimal(10)],[1],'constant')"
   ]
  },
  {
   "cell_type": "code",
   "execution_count": 75,
   "id": "af98e769",
   "metadata": {},
   "outputs": [
    {
     "data": {
      "text/plain": [
       "['teste', Decimal('10'), datetime.date(2025, 5, 26)]"
      ]
     },
     "execution_count": 75,
     "metadata": {},
     "output_type": "execute_result"
    }
   ],
   "source": [
    "teste.generate_expense(2025,5)"
   ]
  },
  {
   "cell_type": "code",
   "execution_count": null,
   "id": "0ce47ae6",
   "metadata": {},
   "outputs": [],
   "source": [
    "import datetime"
   ]
  },
  {
   "cell_type": "code",
   "execution_count": null,
   "id": "c36de358",
   "metadata": {},
   "outputs": [
    {
     "ename": "TypeError",
     "evalue": "'str' object cannot be interpreted as an integer",
     "output_type": "error",
     "traceback": [
      "\u001b[31m---------------------------------------------------------------------------\u001b[39m",
      "\u001b[31mTypeError\u001b[39m                                 Traceback (most recent call last)",
      "\u001b[36mCell\u001b[39m\u001b[36m \u001b[39m\u001b[32mIn[9]\u001b[39m\u001b[32m, line 1\u001b[39m\n\u001b[32m----> \u001b[39m\u001b[32m1\u001b[39m \u001b[43mdatetime\u001b[49m\u001b[43m.\u001b[49m\u001b[43mdate\u001b[49m\u001b[43m(\u001b[49m\u001b[33;43m'\u001b[39;49m\u001b[33;43m2025-01-01\u001b[39;49m\u001b[33;43m'\u001b[39;49m\u001b[43m)\u001b[49m\n",
      "\u001b[31mTypeError\u001b[39m: 'str' object cannot be interpreted as an integer"
     ]
    }
   ],
   "source": [
    "datetime.str('2025-01-01')"
   ]
  },
  {
   "cell_type": "code",
   "execution_count": null,
   "id": "7ce80aa9",
   "metadata": {},
   "outputs": [
    {
     "name": "stdout",
     "output_type": "stream",
     "text": [
      "0\n",
      "1\n",
      "2\n"
     ]
    }
   ],
   "source": [
    "for i in range(3):\n",
    "    print(i)"
   ]
  }
 ],
 "metadata": {
  "kernelspec": {
   "display_name": ".venv",
   "language": "python",
   "name": "python3"
  },
  "language_info": {
   "codemirror_mode": {
    "name": "ipython",
    "version": 3
   },
   "file_extension": ".py",
   "mimetype": "text/x-python",
   "name": "python",
   "nbconvert_exporter": "python",
   "pygments_lexer": "ipython3",
   "version": "3.12.3"
  }
 },
 "nbformat": 4,
 "nbformat_minor": 5
}
