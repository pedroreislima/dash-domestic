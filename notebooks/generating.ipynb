{
 "cells": [
  {
   "cell_type": "code",
   "execution_count": 4,
   "id": "df48c73c",
   "metadata": {},
   "outputs": [],
   "source": [
    "import sys\n",
    "import os\n",
    "\n",
    "# pretend we are inside src\n",
    "sys.path.append(os.path.abspath('../src'))\n",
    "\n",
    "from subscription import Subscription"
   ]
  },
  {
   "cell_type": "code",
   "execution_count": 5,
   "id": "0ffcfc89",
   "metadata": {},
   "outputs": [],
   "source": [
    "teste = Subscription('teste',20, (2025,1),(2025,7),10)"
   ]
  },
  {
   "cell_type": "code",
   "execution_count": 6,
   "id": "8ead1b3c",
   "metadata": {},
   "outputs": [
    {
     "data": {
      "text/plain": [
       "[{'id': 'teste', 'value': 20, 'date': datetime.date(2025, 1, 10)},\n",
       " {'id': 'teste', 'value': 20, 'date': datetime.date(2025, 2, 10)},\n",
       " {'id': 'teste', 'value': 20, 'date': datetime.date(2025, 3, 10)},\n",
       " {'id': 'teste', 'value': 20, 'date': datetime.date(2025, 4, 10)},\n",
       " {'id': 'teste', 'value': 20, 'date': datetime.date(2025, 5, 10)},\n",
       " {'id': 'teste', 'value': 20, 'date': datetime.date(2025, 6, 10)},\n",
       " {'id': 'teste', 'value': 20, 'date': datetime.date(2025, 7, 10)},\n",
       " {'id': 'teste', 'value': 20, 'date': datetime.date(2025, 8, 10)},\n",
       " {'id': 'teste', 'value': 20, 'date': datetime.date(2025, 9, 10)},\n",
       " {'id': 'teste', 'value': 20, 'date': datetime.date(2025, 10, 10)},\n",
       " {'id': 'teste', 'value': 20, 'date': datetime.date(2025, 11, 10)},\n",
       " {'id': 'teste', 'value': 20, 'date': datetime.date(2025, 12, 10)},\n",
       " {'id': 'teste', 'value': 20, 'date': datetime.date(2026, 1, 10)},\n",
       " {'id': 'teste', 'value': 20, 'date': datetime.date(2026, 2, 10)},\n",
       " {'id': 'teste', 'value': 20, 'date': datetime.date(2026, 3, 10)},\n",
       " {'id': 'teste', 'value': 20, 'date': datetime.date(2026, 4, 10)},\n",
       " {'id': 'teste', 'value': 20, 'date': datetime.date(2026, 5, 10)},\n",
       " {'id': 'teste', 'value': 20, 'date': datetime.date(2026, 6, 10)},\n",
       " {'id': 'teste', 'value': 20, 'date': datetime.date(2026, 7, 10)}]"
      ]
     },
     "execution_count": 6,
     "metadata": {},
     "output_type": "execute_result"
    }
   ],
   "source": [
    "Subscription('teste',20, (2025,1),(2026,7),10).generate_subscriptions()"
   ]
  }
 ],
 "metadata": {
  "kernelspec": {
   "display_name": ".venv",
   "language": "python",
   "name": "python3"
  },
  "language_info": {
   "codemirror_mode": {
    "name": "ipython",
    "version": 3
   },
   "file_extension": ".py",
   "mimetype": "text/x-python",
   "name": "python",
   "nbconvert_exporter": "python",
   "pygments_lexer": "ipython3",
   "version": "3.12.3"
  }
 },
 "nbformat": 4,
 "nbformat_minor": 5
}
