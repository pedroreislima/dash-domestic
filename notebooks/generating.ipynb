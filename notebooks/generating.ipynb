{
 "cells": [
  {
   "cell_type": "code",
   "execution_count": 1,
   "id": "df48c73c",
   "metadata": {},
   "outputs": [],
   "source": [
    "import sys\n",
    "import os\n",
    "\n",
    "# pretend we are inside src\n",
    "sys.path.append(os.path.abspath('../src'))\n",
    "\n",
    "from subscription import Subscription\n",
    "from expense import Expense\n",
    "\n",
    "from decimal import *\n",
    "\n",
    "from utils import get_weekdays\n",
    "\n",
    "import pandas"
   ]
  },
  {
   "cell_type": "code",
   "execution_count": 6,
   "id": "f6bace80",
   "metadata": {},
   "outputs": [],
   "source": [
    "subsc = Subscription('netflix', Decimal(\"25.50\"),(2024,1), (2025,2),10)"
   ]
  },
  {
   "cell_type": "code",
   "execution_count": 8,
   "id": "01209e11",
   "metadata": {},
   "outputs": [],
   "source": [
    "data = subsc.generate_subscriptions()"
   ]
  },
  {
   "cell_type": "code",
   "execution_count": 9,
   "id": "c5e2cf65",
   "metadata": {},
   "outputs": [
    {
     "data": {
      "text/plain": [
       "[{'id': 'netflix',\n",
       "  'value': Decimal('25.50'),\n",
       "  'date': datetime.date(2024, 1, 10)},\n",
       " {'id': 'netflix',\n",
       "  'value': Decimal('25.50'),\n",
       "  'date': datetime.date(2024, 2, 10)},\n",
       " {'id': 'netflix',\n",
       "  'value': Decimal('25.50'),\n",
       "  'date': datetime.date(2024, 3, 10)},\n",
       " {'id': 'netflix',\n",
       "  'value': Decimal('25.50'),\n",
       "  'date': datetime.date(2024, 4, 10)},\n",
       " {'id': 'netflix',\n",
       "  'value': Decimal('25.50'),\n",
       "  'date': datetime.date(2024, 5, 10)},\n",
       " {'id': 'netflix',\n",
       "  'value': Decimal('25.50'),\n",
       "  'date': datetime.date(2024, 6, 10)},\n",
       " {'id': 'netflix',\n",
       "  'value': Decimal('25.50'),\n",
       "  'date': datetime.date(2024, 7, 10)},\n",
       " {'id': 'netflix',\n",
       "  'value': Decimal('25.50'),\n",
       "  'date': datetime.date(2024, 8, 10)},\n",
       " {'id': 'netflix',\n",
       "  'value': Decimal('25.50'),\n",
       "  'date': datetime.date(2024, 9, 10)},\n",
       " {'id': 'netflix',\n",
       "  'value': Decimal('25.50'),\n",
       "  'date': datetime.date(2024, 10, 10)},\n",
       " {'id': 'netflix',\n",
       "  'value': Decimal('25.50'),\n",
       "  'date': datetime.date(2024, 11, 10)},\n",
       " {'id': 'netflix',\n",
       "  'value': Decimal('25.50'),\n",
       "  'date': datetime.date(2024, 12, 10)},\n",
       " {'id': 'netflix',\n",
       "  'value': Decimal('25.50'),\n",
       "  'date': datetime.date(2025, 1, 10)},\n",
       " {'id': 'netflix',\n",
       "  'value': Decimal('25.50'),\n",
       "  'date': datetime.date(2025, 2, 10)}]"
      ]
     },
     "execution_count": 9,
     "metadata": {},
     "output_type": "execute_result"
    }
   ],
   "source": [
    "data"
   ]
  },
  {
   "cell_type": "code",
   "execution_count": 2,
   "id": "232d1794",
   "metadata": {},
   "outputs": [],
   "source": [
    "teste = Expense('teste',[Decimal(10)],[1],'constant')"
   ]
  },
  {
   "cell_type": "code",
   "execution_count": 3,
   "id": "af98e769",
   "metadata": {},
   "outputs": [
    {
     "data": {
      "text/plain": [
       "{'id': 'teste', 'value': Decimal('10'), 'date': datetime.date(2025, 5, 5)}"
      ]
     },
     "execution_count": 3,
     "metadata": {},
     "output_type": "execute_result"
    }
   ],
   "source": [
    "teste.generate_expense(2025,5)"
   ]
  },
  {
   "cell_type": "code",
   "execution_count": 7,
   "id": "0ce47ae6",
   "metadata": {},
   "outputs": [],
   "source": [
    "import datetime"
   ]
  },
  {
   "cell_type": "code",
   "execution_count": 8,
   "id": "c36de358",
   "metadata": {},
   "outputs": [
    {
     "ename": "AttributeError",
     "evalue": "module 'datetime' has no attribute 'str'",
     "output_type": "error",
     "traceback": [
      "\u001b[31m---------------------------------------------------------------------------\u001b[39m",
      "\u001b[31mAttributeError\u001b[39m                            Traceback (most recent call last)",
      "\u001b[36mCell\u001b[39m\u001b[36m \u001b[39m\u001b[32mIn[8]\u001b[39m\u001b[32m, line 1\u001b[39m\n\u001b[32m----> \u001b[39m\u001b[32m1\u001b[39m \u001b[43mdatetime\u001b[49m\u001b[43m.\u001b[49m\u001b[43mstr\u001b[49m(\u001b[33m'\u001b[39m\u001b[33m2025-01-01\u001b[39m\u001b[33m'\u001b[39m)\n",
      "\u001b[31mAttributeError\u001b[39m: module 'datetime' has no attribute 'str'"
     ]
    }
   ],
   "source": [
    "datetime.str('2025-01-01')"
   ]
  },
  {
   "cell_type": "code",
   "execution_count": null,
   "id": "7ce80aa9",
   "metadata": {},
   "outputs": [
    {
     "name": "stdout",
     "output_type": "stream",
     "text": [
      "0\n",
      "1\n",
      "2\n"
     ]
    }
   ],
   "source": [
    "for i in range(3):\n",
    "    print(i)"
   ]
  },
  {
   "cell_type": "code",
   "execution_count": 9,
   "id": "20102559",
   "metadata": {},
   "outputs": [],
   "source": [
    "from faking import generate_table_expenses"
   ]
  },
  {
   "cell_type": "code",
   "execution_count": 23,
   "id": "ee5a29f2",
   "metadata": {},
   "outputs": [],
   "source": [
    "list_test = [\n",
    "    [\"Lamen\", [Decimal(\"34.99\"), Decimal(\"19.99\")], [0.3, 0.7], \"constant\"],\n",
    "    [\"Pizza\", [Decimal(\"59.99\"), Decimal(\"30\")], [0.4, 0.6], \"wknd\"],\n",
    "]"
   ]
  },
  {
   "cell_type": "code",
   "execution_count": 24,
   "id": "292bf13b",
   "metadata": {},
   "outputs": [
    {
     "name": "stdout",
     "output_type": "stream",
     "text": [
      "now dealing with Lamen\n",
      "now dealing with Pizza\n"
     ]
    }
   ],
   "source": [
    "table = generate_table_expenses(list_test)"
   ]
  },
  {
   "cell_type": "code",
   "execution_count": 25,
   "id": "0c59b96a",
   "metadata": {},
   "outputs": [
    {
     "data": {
      "text/html": [
       "<div>\n",
       "<style scoped>\n",
       "    .dataframe tbody tr th:only-of-type {\n",
       "        vertical-align: middle;\n",
       "    }\n",
       "\n",
       "    .dataframe tbody tr th {\n",
       "        vertical-align: top;\n",
       "    }\n",
       "\n",
       "    .dataframe thead th {\n",
       "        text-align: right;\n",
       "    }\n",
       "</style>\n",
       "<table border=\"1\" class=\"dataframe\">\n",
       "  <thead>\n",
       "    <tr style=\"text-align: right;\">\n",
       "      <th></th>\n",
       "      <th>0</th>\n",
       "      <th>1</th>\n",
       "      <th>2</th>\n",
       "    </tr>\n",
       "  </thead>\n",
       "  <tbody>\n",
       "    <tr>\n",
       "      <th>0</th>\n",
       "      <td>Lamen</td>\n",
       "      <td>34.99</td>\n",
       "      <td>2024-01-05</td>\n",
       "    </tr>\n",
       "    <tr>\n",
       "      <th>1</th>\n",
       "      <td>Lamen</td>\n",
       "      <td>19.99</td>\n",
       "      <td>2024-02-23</td>\n",
       "    </tr>\n",
       "    <tr>\n",
       "      <th>2</th>\n",
       "      <td>Lamen</td>\n",
       "      <td>19.99</td>\n",
       "      <td>2024-03-25</td>\n",
       "    </tr>\n",
       "    <tr>\n",
       "      <th>3</th>\n",
       "      <td>Lamen</td>\n",
       "      <td>34.99</td>\n",
       "      <td>2024-04-08</td>\n",
       "    </tr>\n",
       "    <tr>\n",
       "      <th>4</th>\n",
       "      <td>Lamen</td>\n",
       "      <td>19.99</td>\n",
       "      <td>2024-04-30</td>\n",
       "    </tr>\n",
       "    <tr>\n",
       "      <th>...</th>\n",
       "      <td>...</td>\n",
       "      <td>...</td>\n",
       "      <td>...</td>\n",
       "    </tr>\n",
       "    <tr>\n",
       "      <th>112</th>\n",
       "      <td>Pizza</td>\n",
       "      <td>30</td>\n",
       "      <td>2025-10-25</td>\n",
       "    </tr>\n",
       "    <tr>\n",
       "      <th>113</th>\n",
       "      <td>Pizza</td>\n",
       "      <td>59.99</td>\n",
       "      <td>2025-11-10</td>\n",
       "    </tr>\n",
       "    <tr>\n",
       "      <th>114</th>\n",
       "      <td>Pizza</td>\n",
       "      <td>30</td>\n",
       "      <td>2025-11-06</td>\n",
       "    </tr>\n",
       "    <tr>\n",
       "      <th>115</th>\n",
       "      <td>Pizza</td>\n",
       "      <td>30</td>\n",
       "      <td>2025-12-10</td>\n",
       "    </tr>\n",
       "    <tr>\n",
       "      <th>116</th>\n",
       "      <td>Pizza</td>\n",
       "      <td>59.99</td>\n",
       "      <td>2025-12-08</td>\n",
       "    </tr>\n",
       "  </tbody>\n",
       "</table>\n",
       "<p>117 rows × 3 columns</p>\n",
       "</div>"
      ],
      "text/plain": [
       "         0      1           2\n",
       "0    Lamen  34.99  2024-01-05\n",
       "1    Lamen  19.99  2024-02-23\n",
       "2    Lamen  19.99  2024-03-25\n",
       "3    Lamen  34.99  2024-04-08\n",
       "4    Lamen  19.99  2024-04-30\n",
       "..     ...    ...         ...\n",
       "112  Pizza     30  2025-10-25\n",
       "113  Pizza  59.99  2025-11-10\n",
       "114  Pizza     30  2025-11-06\n",
       "115  Pizza     30  2025-12-10\n",
       "116  Pizza  59.99  2025-12-08\n",
       "\n",
       "[117 rows x 3 columns]"
      ]
     },
     "execution_count": 25,
     "metadata": {},
     "output_type": "execute_result"
    }
   ],
   "source": [
    "pandas.DataFrame(table)"
   ]
  },
  {
   "cell_type": "code",
   "execution_count": 20,
   "id": "561dc646",
   "metadata": {},
   "outputs": [],
   "source": [
    "fixed_behavior = [\n",
    "    [\"health insurance\", (2024,8), (2025,6), Decimal(250), 15],\n",
    "    [\"health insurance\", (2025,7), (2025,12), Decimal(300), 15]\n",
    "]"
   ]
  },
  {
   "cell_type": "code",
   "execution_count": 10,
   "id": "64950019",
   "metadata": {},
   "outputs": [],
   "source": [
    "from faking import generate_subscriptions"
   ]
  },
  {
   "cell_type": "code",
   "execution_count": 16,
   "id": "10751ace",
   "metadata": {},
   "outputs": [],
   "source": [
    "subscription = fixed_behavior[0]"
   ]
  },
  {
   "cell_type": "code",
   "execution_count": 17,
   "id": "72aa5b42",
   "metadata": {},
   "outputs": [
    {
     "data": {
      "text/plain": [
       "('health insurance', Decimal('250'), '2024-08-01', '2025-6-01', 15)"
      ]
     },
     "execution_count": 17,
     "metadata": {},
     "output_type": "execute_result"
    }
   ],
   "source": [
    "subscription[0],subscription[3],subscription[1],subscription[2],subscription[4],"
   ]
  },
  {
   "cell_type": "code",
   "execution_count": 21,
   "id": "38b7b89b",
   "metadata": {},
   "outputs": [
    {
     "data": {
      "text/plain": [
       "[{'id': 'health insurance',\n",
       "  'value': Decimal('250'),\n",
       "  'date': datetime.date(2024, 8, 15)},\n",
       " {'id': 'health insurance',\n",
       "  'value': Decimal('250'),\n",
       "  'date': datetime.date(2024, 9, 15)},\n",
       " {'id': 'health insurance',\n",
       "  'value': Decimal('250'),\n",
       "  'date': datetime.date(2024, 10, 15)},\n",
       " {'id': 'health insurance',\n",
       "  'value': Decimal('250'),\n",
       "  'date': datetime.date(2024, 11, 15)},\n",
       " {'id': 'health insurance',\n",
       "  'value': Decimal('250'),\n",
       "  'date': datetime.date(2024, 12, 15)},\n",
       " {'id': 'health insurance',\n",
       "  'value': Decimal('250'),\n",
       "  'date': datetime.date(2025, 1, 15)},\n",
       " {'id': 'health insurance',\n",
       "  'value': Decimal('250'),\n",
       "  'date': datetime.date(2025, 2, 15)},\n",
       " {'id': 'health insurance',\n",
       "  'value': Decimal('250'),\n",
       "  'date': datetime.date(2025, 3, 15)},\n",
       " {'id': 'health insurance',\n",
       "  'value': Decimal('250'),\n",
       "  'date': datetime.date(2025, 4, 15)},\n",
       " {'id': 'health insurance',\n",
       "  'value': Decimal('250'),\n",
       "  'date': datetime.date(2025, 5, 15)},\n",
       " {'id': 'health insurance',\n",
       "  'value': Decimal('250'),\n",
       "  'date': datetime.date(2025, 6, 15)},\n",
       " {'id': 'health insurance',\n",
       "  'value': Decimal('300'),\n",
       "  'date': datetime.date(2025, 7, 15)},\n",
       " {'id': 'health insurance',\n",
       "  'value': Decimal('300'),\n",
       "  'date': datetime.date(2025, 8, 15)},\n",
       " {'id': 'health insurance',\n",
       "  'value': Decimal('300'),\n",
       "  'date': datetime.date(2025, 9, 15)},\n",
       " {'id': 'health insurance',\n",
       "  'value': Decimal('300'),\n",
       "  'date': datetime.date(2025, 10, 15)},\n",
       " {'id': 'health insurance',\n",
       "  'value': Decimal('300'),\n",
       "  'date': datetime.date(2025, 11, 15)},\n",
       " {'id': 'health insurance',\n",
       "  'value': Decimal('300'),\n",
       "  'date': datetime.date(2025, 12, 15)}]"
      ]
     },
     "execution_count": 21,
     "metadata": {},
     "output_type": "execute_result"
    }
   ],
   "source": [
    "generate_subscriptions(fixed_behavior)"
   ]
  },
  {
   "cell_type": "code",
   "execution_count": 5,
   "id": "a4c582b1",
   "metadata": {},
   "outputs": [],
   "source": [
    "import datetime"
   ]
  },
  {
   "cell_type": "code",
   "execution_count": 6,
   "id": "867241b2",
   "metadata": {},
   "outputs": [],
   "source": [
    "pontual_expenses_list = [\n",
    "    {\n",
    "        \"id\": \"Bike\",\n",
    "        \"value\": Decimal(\"750\"),\n",
    "        \"date\": datetime.date(2024, 2, 26)\n",
    "    },\n",
    "    {\n",
    "        \"id\": \"Drawing Tablet\",\n",
    "        \"value\": Decimal(\"0\"),\n",
    "        \"date\": datetime.date(2025, 2, 26)\n",
    "    }\n",
    "]"
   ]
  },
  {
   "cell_type": "code",
   "execution_count": 7,
   "id": "6abf5c62",
   "metadata": {},
   "outputs": [],
   "source": [
    "list = []"
   ]
  },
  {
   "cell_type": "code",
   "execution_count": 8,
   "id": "60cba042",
   "metadata": {},
   "outputs": [],
   "source": [
    "list.extend(pontual_expenses_list)"
   ]
  },
  {
   "cell_type": "code",
   "execution_count": 9,
   "id": "5a42b6d5",
   "metadata": {},
   "outputs": [
    {
     "data": {
      "text/plain": [
       "[{'id': 'Bike', 'value': Decimal('750'), 'date': datetime.date(2024, 2, 26)},\n",
       " {'id': 'Drawing Tablet',\n",
       "  'value': Decimal('0'),\n",
       "  'date': datetime.date(2025, 2, 26)}]"
      ]
     },
     "execution_count": 9,
     "metadata": {},
     "output_type": "execute_result"
    }
   ],
   "source": [
    "list"
   ]
  }
 ],
 "metadata": {
  "kernelspec": {
   "display_name": ".venv",
   "language": "python",
   "name": "python3"
  },
  "language_info": {
   "codemirror_mode": {
    "name": "ipython",
    "version": 3
   },
   "file_extension": ".py",
   "mimetype": "text/x-python",
   "name": "python",
   "nbconvert_exporter": "python",
   "pygments_lexer": "ipython3",
   "version": "3.12.3"
  }
 },
 "nbformat": 4,
 "nbformat_minor": 5
}
