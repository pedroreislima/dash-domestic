{
 "cells": [
  {
   "cell_type": "code",
   "execution_count": null,
   "id": "a4279e14",
   "metadata": {},
   "outputs": [],
   "source": [
    "import pandas as pd\n",
    "import numpy as np\n",
    "import faker\n",
    "import random as rnd\n",
    "import datetime\n",
    "import calendar"
   ]
  },
  {
   "cell_type": "code",
   "execution_count": 35,
   "id": "fc8e2796",
   "metadata": {},
   "outputs": [],
   "source": [
    "# importing decimals just for good practice, as it is best for monetary value handling.\n",
    "from decimal import Decimal, getcontext\n",
    "# we will use only two decimal places.\n",
    "getcontext().prec = 2"
   ]
  },
  {
   "cell_type": "code",
   "execution_count": null,
   "id": "5ffe9010",
   "metadata": {},
   "outputs": [],
   "source": [
    "# importing my custom functions"
   ]
  },
  {
   "cell_type": "markdown",
   "id": "68345f41",
   "metadata": {},
   "source": [
    "# 1 Plan of (totally legal) falsification"
   ]
  },
  {
   "cell_type": "markdown",
   "id": "44b07365",
   "metadata": {},
   "source": [
    "First of let's plan this out. We will try and simulate bank extract so we better think about its format first: <br>\n",
    "['id','value','date'] <br>\n",
    "This will be our extract values, pretty minimalist."
   ]
  },
  {
   "cell_type": "markdown",
   "id": "ed94d902",
   "metadata": {},
   "source": [
    "Beyond that, what type of expenses are we going to make? I'll just decide some easy ones:\n",
    "\n",
    "- groceries\n",
    "- streaming\n",
    "- shopping\n",
    "- Food Delivery\n",
    "- travell\n",
    "- transportation\n",
    "- pix?\n",
    "- games\n",
    "- education\n",
    "- health\n",
    "\n",
    "Yes, that order really tracks, doesn't it."
   ]
  },
  {
   "cell_type": "markdown",
   "id": "df8a9035",
   "metadata": {},
   "source": [
    "## 1.1 creating our scenary"
   ]
  },
  {
   "cell_type": "markdown",
   "id": "9a820da7",
   "metadata": {},
   "source": [
    "I will make a list to decide some \"non-random\" information. For example, let's say our simulated person started paying for their health insurance only in the second year, or that they only pay for their anime streaming service a few months a year. Just to make it more interesting. <br>\n",
    "Maybe I should automate this to, but I will try this manual method for now."
   ]
  },
  {
   "cell_type": "code",
   "execution_count": null,
   "id": "3dc406ba",
   "metadata": {},
   "outputs": [],
   "source": [
    "# Let's create some fixed behavior for our subject\n",
    "# [id:str, start-date:str, end-date:str, value:float]\n",
    "# I though of creating another tag for recurrancy such as [\"monthly\", \"daily\", etc.], but I will just do monthly.\n",
    "\n",
    "fixed_behavior = [\n",
    "    [\"health insurance\", \"2025-01-01\", \"2025-6-01\", Decimal(250)],\n",
    "    [\"health insurance\", \"2025-07-01\", \"2025-12-01\", Decimal(300)],\n",
    "    [\"braces\", \"2024-06-01\", \"2025-06-01\", Decimal(100)],\n",
    "    [\"gym\", \"2024-01-25\", \"2024-07-01\", Decimal(70)],\n",
    "    [\"gym\", \"2024-07-25\", \"2025-06-01\", Decimal(85)],\n",
    "    [\"netflix\", \"2024-03-10\", \"2025-04-01\", Decimal(25)],\n",
    "    [\"netflix\", \"2025-04-10\", \"2025-12-01\", Decimal(35)],\n",
    "    [\"crunchyroll\", \"2024-05-08\", \"2024-08-01\", Decimal(15)],\n",
    "    [\"crunchyroll\", \"2024-11-08\", \"2025-03-01\", Decimal(15)],\n",
    "    [\"italian course\", \"2025-06-01\", \"2025-11-01\", Decimal(320)],\n",
    "]"
   ]
  },
  {
   "cell_type": "code",
   "execution_count": null,
   "id": "a7c1db22",
   "metadata": {},
   "outputs": [],
   "source": [
    "# possible expenses\n",
    "# [id:str, possible values: list[Decimal], prob. distribution of values: dict[float]]\n",
    "[\n",
    "    [\"Lamen\", [Decimal(34.99), Decimal(19.99)], [0.3,0.7]],\n",
    "    [\"Pizza\", [Decimal(59.99), Decimal(30)], [0.4,0.6], 'wknd'],\n",
    "    [\"Feijoada\", [Decimal(32.00), Decimal(24.99)], [0.5,0.5]],\n",
    "    [\"Carangueijo\", [Decimal(50.00)], [1], 'quinta'],\n",
    "    [\"supermercado\",]\n",
    "]"
   ]
  },
  {
   "cell_type": "code",
   "execution_count": null,
   "id": "d3c4c34b",
   "metadata": {},
   "outputs": [],
   "source": [
    "# Categories\n",
    "{\n",
    "    \"groceries\"\n",
    "}"
   ]
  },
  {
   "cell_type": "markdown",
   "id": "253a0543",
   "metadata": {},
   "source": [
    "# Setting classes"
   ]
  },
  {
   "cell_type": "code",
   "execution_count": null,
   "id": "ea959597",
   "metadata": {},
   "outputs": [],
   "source": [
    "class ExpenseBase():\n",
    "    def __init__(self, id:str, possible_values:list[Decimal], dist_values:list[float]):\n",
    "        self.id = id\n",
    "        self.possible_values = possible_values\n",
    "        self.dist_values = dist_values\n",
    "        pass\n",
    "    "
   ]
  },
  {
   "cell_type": "markdown",
   "id": "9843275a",
   "metadata": {},
   "source": [
    "# Making some useful functions\n"
   ]
  },
  {
   "cell_type": "code",
   "execution_count": 34,
   "id": "712da72f",
   "metadata": {},
   "outputs": [
    {
     "data": {
      "text/plain": [
       "5"
      ]
     },
     "execution_count": 34,
     "metadata": {},
     "output_type": "execute_result"
    }
   ],
   "source": [
    "date_test = datetime.date(2025,2,1)\n",
    "date_test.weekday()"
   ]
  },
  {
   "cell_type": "code",
   "execution_count": null,
   "id": "39d6c3b4",
   "metadata": {},
   "outputs": [],
   "source": [
    "desired_weekday = 4\n",
    "delta_new_week = 7 - date_test.weekday()\n",
    "delta = desired_weekday - date_test.weekday()"
   ]
  },
  {
   "cell_type": "code",
   "execution_count": 32,
   "id": "c99e34ec",
   "metadata": {},
   "outputs": [
    {
     "data": {
      "text/plain": [
       "(datetime.date(2025, 2, 7), 4)"
      ]
     },
     "execution_count": 32,
     "metadata": {},
     "output_type": "execute_result"
    }
   ],
   "source": [
    "date_test_timedelta = date_test + datetime.timedelta(days=delta+7)\n",
    "date_test_timedelta,date_test_timedelta.weekday()\n"
   ]
  },
  {
   "cell_type": "code",
   "execution_count": 78,
   "id": "6928b2e4",
   "metadata": {},
   "outputs": [],
   "source": [
    "def get_weekdays(year:int, month:int, week_day:int):\n",
    "    month_start = datetime.date(year,month,1)\n",
    "    start_date = month_start\n",
    "    week_delta = week_day - month_start.weekday()\n",
    "    if week_delta >= 0:\n",
    "        start_date = month_start + datetime.timedelta(days=week_delta)\n",
    "    if week_delta <0:\n",
    "        start_date = month_start + datetime.timedelta(days=week_delta + 7)\n",
    "        \n",
    "    # now we have the first date for that weekday, lets iterate until we are out of bounds on the month.\n",
    "    iterate_date = start_date\n",
    "    weekday_list = []\n",
    "    while month_start.month == iterate_date.month:\n",
    "        weekday_list.append(iterate_date)\n",
    "        iterate_date = iterate_date + datetime.timedelta(days= 7)\n",
    "        print(iterate_date)\n",
    "    return weekday_list\n",
    "    "
   ]
  },
  {
   "cell_type": "code",
   "execution_count": null,
   "id": "ec903db9",
   "metadata": {},
   "outputs": [],
   "source": []
  },
  {
   "cell_type": "code",
   "execution_count": 81,
   "id": "c9525d8c",
   "metadata": {},
   "outputs": [
    {
     "name": "stdout",
     "output_type": "stream",
     "text": [
      "2025-02-10\n",
      "2025-02-17\n",
      "2025-02-24\n",
      "2025-03-03\n"
     ]
    },
    {
     "data": {
      "text/plain": [
       "[datetime.date(2025, 2, 3),\n",
       " datetime.date(2025, 2, 10),\n",
       " datetime.date(2025, 2, 17),\n",
       " datetime.date(2025, 2, 24)]"
      ]
     },
     "execution_count": 81,
     "metadata": {},
     "output_type": "execute_result"
    }
   ],
   "source": [
    "get_weekdays(2025,2,0)"
   ]
  },
  {
   "cell_type": "code",
   "execution_count": null,
   "id": "7dd3aecd",
   "metadata": {},
   "outputs": [],
   "source": [
    "# add ditribution for day of week -> default:uniform wknd: wekend heavy (50%) and custom(like input \"quinta do carangueijo\" bias)\n",
    "\n",
    "def generate_expense(id:str, possible_values:list[Decimal], dist_values:list[float], date:str):\n",
    "    '''\n",
    "    Generate expense row for id in certain date, with value based on given distribution.\n",
    "    \n",
    "    Return:\n",
    "        dict row with Id,Value and Date.\n",
    "    '''\n",
    "    expense_value = -rnd.choice(possible_values, p = dist_values)\n",
    "    expense_row = {\"id\": id, \n",
    "                   \"value\": expense_value,\n",
    "                   \"date\": date}\n",
    "    return expense_row"
   ]
  },
  {
   "cell_type": "code",
   "execution_count": null,
   "id": "125669f3",
   "metadata": {},
   "outputs": [],
   "source": [
    "def generate_subscription():\n",
    "    expense_row = {}\n",
    "    return expense_row"
   ]
  },
  {
   "cell_type": "code",
   "execution_count": null,
   "id": "0f28152d",
   "metadata": {},
   "outputs": [],
   "source": []
  },
  {
   "cell_type": "markdown",
   "id": "844d23a1",
   "metadata": {},
   "source": [
    "# Generation\n"
   ]
  },
  {
   "cell_type": "code",
   "execution_count": 28,
   "id": "70fc80f6",
   "metadata": {},
   "outputs": [
    {
     "data": {
      "text/plain": [
       "3"
      ]
     },
     "execution_count": 28,
     "metadata": {},
     "output_type": "execute_result"
    }
   ],
   "source": [
    "rnd.choice([1,2,3])"
   ]
  },
  {
   "cell_type": "code",
   "execution_count": 11,
   "id": "12e466b2",
   "metadata": {},
   "outputs": [],
   "source": [
    "fake = faker.Faker([\"pt_BR\"])"
   ]
  },
  {
   "cell_type": "code",
   "execution_count": 15,
   "id": "f118f6ee",
   "metadata": {},
   "outputs": [
    {
     "data": {
      "text/plain": [
       "'Erick Martins'"
      ]
     },
     "execution_count": 15,
     "metadata": {},
     "output_type": "execute_result"
    }
   ],
   "source": [
    "fake.name()"
   ]
  },
  {
   "cell_type": "code",
   "execution_count": 19,
   "id": "a106a27d",
   "metadata": {},
   "outputs": [
    {
     "data": {
      "text/plain": [
       "'duarte.br'"
      ]
     },
     "execution_count": 19,
     "metadata": {},
     "output_type": "execute_result"
    }
   ],
   "source": [
    "fake.domain_name()"
   ]
  }
 ],
 "metadata": {
  "kernelspec": {
   "display_name": ".venv",
   "language": "python",
   "name": "python3"
  },
  "language_info": {
   "codemirror_mode": {
    "name": "ipython",
    "version": 3
   },
   "file_extension": ".py",
   "mimetype": "text/x-python",
   "name": "python",
   "nbconvert_exporter": "python",
   "pygments_lexer": "ipython3",
   "version": "3.12.3"
  }
 },
 "nbformat": 4,
 "nbformat_minor": 5
}
